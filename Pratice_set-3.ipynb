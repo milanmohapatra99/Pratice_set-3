{
 "cells": [
  {
   "cell_type": "code",
   "execution_count": 1,
   "id": "b31946da",
   "metadata": {},
   "outputs": [
    {
     "name": "stdout",
     "output_type": "stream",
     "text": [
      "once \n"
     ]
    }
   ],
   "source": [
    " story=\"once upon a there was a capseller sleeping under a tree by wearing a cap on his head\"\n",
    " print(story[0:5])   "
   ]
  },
  {
   "cell_type": "code",
   "execution_count": 14,
   "id": "d93fca89",
   "metadata": {},
   "outputs": [
    {
     "name": "stdout",
     "output_type": "stream",
     "text": [
      "84\n",
      "False\n",
      "True\n",
      "80\n"
     ]
    }
   ],
   "source": [
    "#string Function\n",
    "print(len(story))\n",
    "print(story.endswith(\"notes\"))\n",
    "print(story.endswith(\"head\"))\n",
    "print(story.find(\"head\"))\n"
   ]
  },
  {
   "cell_type": "code",
   "execution_count": 6,
   "id": "70951ad5",
   "metadata": {},
   "outputs": [
    {
     "name": "stdout",
     "output_type": "stream",
     "text": [
      "Enter Your Name:\n",
      "lucy\n",
      "Good Night,lucy\n"
     ]
    }
   ],
   "source": [
    " #w.a.p to display a user centered name followed by goodafternoon using input()\n",
    "name=input(\"Enter Your Name:\\n\")\n",
    "print(\"Good Night,\"+name)"
   ]
  },
  {
   "cell_type": "code",
   "execution_count": 7,
   "id": "42e659ab",
   "metadata": {},
   "outputs": [
    {
     "name": "stdout",
     "output_type": "stream",
     "text": [
      "Enter Your Name\n",
      "lucy\n",
      "Enter Date\n",
      "26 jan\n",
      "Dearlucy,\n",
      "Greetings from google,I am happy to tell you about your selection\n",
      "You are selected!\n",
      "Have a great day ahead!\n",
      "Thanks and regards,\n",
      "google\n",
      "Date:26 jan\n"
     ]
    }
   ],
   "source": [
    "#w.a.p to fill in a letter template given below with name and date\n",
    "'''letter=Dear<|Name|>,\n",
    "You are selected!\n",
    "Date:<|Date|>'''\n",
    "letter='''Dear<|Name|>,\n",
    "Greetings from google,I am happy to tell you about your selection\n",
    "You are selected!\n",
    "Have a great day ahead!\n",
    "Thanks and regards,\n",
    "google\n",
    "Date:<|Date|>'''\n",
    "name = input(\"Enter Your Name\\n\")\n",
    "date = input(\"Enter Date\\n\")\n",
    "letter = letter.replace(\"<|Name|>\",name)\n",
    "letter = letter.replace(\"<|Date|>\",date)\n",
    "print(letter)\n"
   ]
  },
  {
   "cell_type": "code",
   "execution_count": 5,
   "id": "508d708c",
   "metadata": {},
   "outputs": [
    {
     "name": "stdout",
     "output_type": "stream",
     "text": [
      "27\n"
     ]
    }
   ],
   "source": [
    "#w.a.p to detect double spaces in a string\n",
    "st=\"This is a sting with double  spaces\"\n",
    "doubleSpaces = st.find(\"  \")\n",
    "print(doubleSpaces)\n"
   ]
  },
  {
   "cell_type": "code",
   "execution_count": 9,
   "id": "f00bf725",
   "metadata": {},
   "outputs": [
    {
     "name": "stdout",
     "output_type": "stream",
     "text": [
      "This is a sting with double  spaces ok\n"
     ]
    }
   ],
   "source": [
    "#w.a.p to detect double spaces in a string and replace it to single space\n",
    "st=\"This is a sting with double  spaces ok\"\n",
    "doubleSpaces = st.replace(\"  \",\" \")\n",
    "print(st)"
   ]
  },
  {
   "cell_type": "code",
   "execution_count": 11,
   "id": "15777605",
   "metadata": {},
   "outputs": [
    {
     "name": "stdout",
     "output_type": "stream",
     "text": [
      "Dear Milan,This Python Courses is nice!Keep it up\n",
      "Dear Milan,\n",
      "\tThis Python Courses is nice!\n",
      "Keep it up\n"
     ]
    }
   ],
   "source": [
    "#w.a.p to format the following letter using esacpe sequence characters.\n",
    "letter = \"Dear Milan,This Python Courses is nice!Keep it up\"\n",
    "print(letter)\n",
    "formatted_letter = \"Dear Milan,\\n\\tThis Python Courses is nice!\\nKeep it up\"\n",
    "print(formatted_letter)\n"
   ]
  },
  {
   "cell_type": "code",
   "execution_count": null,
   "id": "03edb208",
   "metadata": {},
   "outputs": [],
   "source": []
  }
 ],
 "metadata": {
  "kernelspec": {
   "display_name": "Python 3 (ipykernel)",
   "language": "python",
   "name": "python3"
  },
  "language_info": {
   "codemirror_mode": {
    "name": "ipython",
    "version": 3
   },
   "file_extension": ".py",
   "mimetype": "text/x-python",
   "name": "python",
   "nbconvert_exporter": "python",
   "pygments_lexer": "ipython3",
   "version": "3.9.7"
  }
 },
 "nbformat": 4,
 "nbformat_minor": 5
}
